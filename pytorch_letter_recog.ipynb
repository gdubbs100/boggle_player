{
 "cells": [
  {
   "cell_type": "code",
   "execution_count": 1,
   "metadata": {},
   "outputs": [],
   "source": [
    "import pandas as pd\n",
    "import numpy as np\n",
    "import os\n",
    "import cv2 as cv\n",
    "import matplotlib.pyplot as plt"
   ]
  },
  {
   "cell_type": "code",
   "execution_count": 285,
   "metadata": {},
   "outputs": [
    {
     "name": "stdout",
     "output_type": "stream",
     "text": [
      "{1: '0', 2: '1', 3: '2', 4: '3', 5: '4', 6: '5', 7: '6', 8: '7', 9: '8', 10: '9', 11: 'A', 12: 'B', 13: 'C', 14: 'D', 15: 'E', 16: 'F', 17: 'G', 18: 'H', 19: 'I', 20: 'J', 21: 'K', 22: 'L', 23: 'M', 24: 'N', 25: 'O', 26: 'P', 27: 'Q', 28: 'R', 29: 'S', 30: 'T', 31: 'U', 32: 'V', 33: 'W', 34: 'X', 35: 'Y', 36: 'Z', 37: 'a', 38: 'b', 39: 'c', 40: 'd', 41: 'e', 42: 'f', 43: 'g', 44: 'h', 45: 'i', 46: 'j', 47: 'k', 48: 'l', 49: 'm', 50: 'n', 51: 'o', 52: 'p', 53: 'q', 54: 'r', 55: 's', 56: 't', 57: 'u', 58: 'v', 59: 'w', 60: 'x', 61: 'y', 62: 'z'}\n"
     ]
    }
   ],
   "source": [
    "import string\n",
    "from itertools import chain\n",
    "chars = [string.digits,string.ascii_uppercase,string.ascii_lowercase]\n",
    "class_mapping = {(idx + 1):char for idx, char in enumerate(chain(*chars)) }\n",
    "print(class_mapping)"
   ]
  },
  {
   "cell_type": "code",
   "execution_count": 3,
   "metadata": {},
   "outputs": [
    {
     "name": "stdout",
     "output_type": "stream",
     "text": [
      "64 103.54\n"
     ]
    },
    {
     "data": {
      "image/png": "[encoded data removed]",
      "text/plain": [
       "<Figure size 432x288 with 1 Axes>"
      ]
     },
     "metadata": {
      "needs_background": "light"
     },
     "output_type": "display_data"
    }
   ],
   "source": [
    "#\n",
    "fixed_size = tuple((100, 100))\n",
    "image = cv.imread('./English/Img/GoodImg/Bmp/Sample012/img012-00025.png')\n",
    "# cv2.cvtColor(image, cv2.COLOR_BGR2GRAY)\n",
    "image = cv.resize(image, fixed_size)\n",
    "greyscale = cv.cvtColor(image, cv.COLOR_BGR2GRAY)\n",
    "\n",
    "print(greyscale[0,0], greyscale.mean())\n",
    "if greyscale[0,0] >= greyscale.mean():\n",
    "    \n",
    "    greyscale[greyscale >= greyscale.mean()] = 0\n",
    "    greyscale[greyscale < greyscale.mean()] = 1\n",
    "else:\n",
    "    \n",
    "    greyscale[greyscale < greyscale.mean()] = 0\n",
    "    greyscale[greyscale >= greyscale.mean()] = 1\n",
    "    \n",
    "\n",
    "    \n",
    "plt.imshow(greyscale, cmap = 'Greys')\n",
    "plt.show()\n"
   ]
  },
  {
   "cell_type": "code",
   "execution_count": 127,
   "metadata": {},
   "outputs": [],
   "source": [
    "def getBinaryImage(image, fixed_size = tuple((100,100))):\n",
    "    \"\"\"Converts an image to a black/white binary image.\n",
    "    Examines the corner to determine which cells to convert to 1 and which to 0.\n",
    "    Aims to make the letters black - but doesn't always work!!\"\"\"\n",
    "    \n",
    "    new_image = cv.resize(image, fixed_size)\n",
    "    greyscale = cv.cvtColor(new_image, cv.COLOR_BGR2GRAY)\n",
    "\n",
    "    if greyscale[0,0] >= greyscale.mean():\n",
    "        greyscale[greyscale < greyscale.mean()] = 1.0\n",
    "        greyscale[greyscale >= greyscale.mean()] = 0.0\n",
    "        \n",
    "    else:\n",
    "        greyscale[greyscale < greyscale.mean()] = 0.0\n",
    "        greyscale[greyscale >= greyscale.mean()] = 1.0\n",
    "        \n",
    "    return greyscale.flatten()"
   ]
  },
  {
   "cell_type": "code",
   "execution_count": 286,
   "metadata": {},
   "outputs": [],
   "source": [
    "# get the dataset\n",
    "raw_dir = './English/Img/GoodImg/Bmp'\n",
    "X = []\n",
    "labels = [] # convert to y with encoding later\n",
    "for _file in os.listdir(raw_dir):\n",
    "    key = int(_file[-3:])\n",
    "    curr_label = class_mapping[key]\n",
    "    if key in range(11,37):\n",
    "        for _sample in os.listdir(os.path.join(raw_dir,_file)):\n",
    "            image = cv.imread(os.path.join(raw_dir, _file,_sample))\n",
    "            bin_image = getBinaryImage(image)\n",
    "            X.append(bin_image)\n",
    "            labels.append(curr_label)"
   ]
  },
  {
   "cell_type": "code",
   "execution_count": 287,
   "metadata": {},
   "outputs": [],
   "source": [
    "import torch\n",
    "import torch.nn as nn\n",
    "import torch.nn.functional as F\n",
    "import torch.utils.data.dataset\n",
    "from torch.utils.data import TensorDataset, DataLoader, random_split\n",
    "from sklearn.model_selection import train_test_split\n",
    "from sklearn.preprocessing import LabelEncoder\n",
    "\n",
    "# batch size\n",
    "bs = 4\n",
    "\n",
    "# encode labels\n",
    "le = LabelEncoder()\n",
    "le.fit(labels)\n",
    "y = le.transform(labels)\n",
    "# split test / train\n",
    "X_train, X_test, y_train, y_test = map(\n",
    "    torch.tensor, \n",
    "    train_test_split(\n",
    "        X, \n",
    "        y,\n",
    "        test_size=0.2, \n",
    "        random_state=0\n",
    "        )\n",
    "    )\n",
    "\n",
    "# create Tensor datasets and dataloaders\n",
    "train_ds = TensorDataset(X_train, y_train)\n",
    "test_ds = TensorDataset(X_test, y_test)\n",
    "\n",
    "train_dl = DataLoader(train_ds, batch_size= bs)\n",
    "test_dl = DataLoader(test_ds, batch_size= bs) # not sure why *2??\n"
   ]
  },
  {
   "cell_type": "code",
   "execution_count": 236,
   "metadata": {},
   "outputs": [],
   "source": [
    "## create a simple nn to start\n",
    "\n",
    "class logReg(nn.Module):\n",
    "\n",
    "    def __init__(self):\n",
    "        super().__init__()\n",
    "        self.linear = nn.Linear(10000, 36)\n",
    "\n",
    "    def forward(self, x):\n",
    "        x = torch.sigmoid(self.linear(x))\n",
    "        return x"
   ]
  },
  {
   "cell_type": "code",
   "execution_count": 237,
   "metadata": {},
   "outputs": [],
   "source": [
    "from torch import optim\n",
    "net = logReg()\n",
    "criterion = nn.CrossEntropyLoss() # for multi-class classification\n",
    "optimizer = optim.SGD(net.parameters(), lr = 0.001, momentum = 0.9)"
   ]
  },
  {
   "cell_type": "code",
   "execution_count": 238,
   "metadata": {},
   "outputs": [],
   "source": [
    "# create training function to play with hyperparams\n",
    "def Train(net, epochs, trainloader, criterion, optimizer):\n",
    "    # train the network\n",
    "    for epoch in range(epochs):\n",
    "\n",
    "        running_loss = 0.0\n",
    "        for i, data in enumerate(trainloader, 0):\n",
    "            # get the inputs; data is a list of [inputs, labels]\n",
    "            inputs, labels = data\n",
    "\n",
    "            # zero the parameter gradients (still not sure what this is really?)\n",
    "            optimizer.zero_grad()\n",
    "\n",
    "            # forward + backward + optimize\n",
    "            outputs = net(inputs.float())\n",
    "            loss = criterion(outputs, labels.long())\n",
    "            loss.backward()\n",
    "            optimizer.step()\n",
    "\n",
    "            # print stats\n",
    "            running_loss += loss.item()\n",
    "            if i % 100 == 99: # print every 2000 minibatches\n",
    "                print(f'[{epoch + 1}, {i + 1:5d}] loss: {running_loss / 100:.3f}')\n",
    "                running_loss = 0.0 # why reset this? - its an average loss for last 2000 mini batches\n",
    "\n",
    "\n",
    "    print('Finished Training')\n",
    "\n",
    "\n",
    "def Eval(net, testloader):\n",
    "    correct = 0\n",
    "    total = 0\n",
    "    with torch.no_grad():\n",
    "        for data in testloader:\n",
    "            images, labels = data\n",
    "            # calculate outputs by running images through the network\n",
    "            outputs = net(images.float())\n",
    "            _, predicted = torch.max(outputs.data, 1)\n",
    "            total += labels.size(0)\n",
    "            correct += (predicted == labels).sum().item()\n",
    "\n",
    "    print(f'Accuracy of the network on the test images: {100 * correct // total} %')"
   ]
  },
  {
   "cell_type": "code",
   "execution_count": 239,
   "metadata": {},
   "outputs": [
    {
     "name": "stdout",
     "output_type": "stream",
     "text": [
      "[1,   100] loss: 3.374\n",
      "[1,   200] loss: 3.272\n",
      "[1,   300] loss: 3.218\n",
      "[1,   400] loss: 3.172\n",
      "[1,   500] loss: 3.138\n",
      "[1,   600] loss: 3.088\n",
      "[1,   700] loss: 3.116\n",
      "[1,   800] loss: 3.098\n",
      "[1,   900] loss: 3.075\n",
      "[1,  1000] loss: 3.102\n",
      "[1,  1100] loss: 3.038\n",
      "[1,  1200] loss: 3.041\n",
      "[1,  1300] loss: 3.021\n",
      "[1,  1400] loss: 3.038\n",
      "[1,  1500] loss: 3.018\n",
      "[2,   100] loss: 3.015\n",
      "[2,   200] loss: 3.024\n",
      "[2,   300] loss: 2.991\n",
      "[2,   400] loss: 3.003\n",
      "[2,   500] loss: 2.992\n",
      "[2,   600] loss: 2.956\n",
      "[2,   700] loss: 2.980\n",
      "[2,   800] loss: 2.979\n",
      "[2,   900] loss: 2.970\n",
      "[2,  1000] loss: 2.994\n",
      "[2,  1100] loss: 2.948\n",
      "[2,  1200] loss: 2.966\n",
      "[2,  1300] loss: 2.947\n",
      "[2,  1400] loss: 2.971\n",
      "[2,  1500] loss: 2.963\n",
      "Finished Training\n"
     ]
    }
   ],
   "source": [
    "Train(net, 2, train_dl, criterion, optimizer)"
   ]
  },
  {
   "cell_type": "code",
   "execution_count": 240,
   "metadata": {},
   "outputs": [
    {
     "name": "stdout",
     "output_type": "stream",
     "text": [
      "Accuracy of the network on the test images: 47 %\n"
     ]
    }
   ],
   "source": [
    "Eval(net, test_dl)"
   ]
  },
  {
   "cell_type": "code",
   "execution_count": 96,
   "metadata": {},
   "outputs": [],
   "source": [
    "# those were pretty garbage. lets try adding some layers\n",
    "class bigNet(nn.Module):\n",
    "\n",
    "    def __init__(self):\n",
    "        super().__init__()\n",
    "        self.linear1 = nn.Linear(10000, 5000)\n",
    "        self.linear2 = nn.Linear(5000, 1000)\n",
    "        self.linear3 = nn.Linear(1000, 36)\n",
    "\n",
    "    def forward(self, x):\n",
    "        x = F.relu(self.linear1(x))\n",
    "        x = F.relu(self.linear2(x))\n",
    "        x = F.relu(self.linear3(x))\n",
    "        return x"
   ]
  },
  {
   "cell_type": "code",
   "execution_count": 97,
   "metadata": {},
   "outputs": [
    {
     "name": "stdout",
     "output_type": "stream",
     "text": [
      "[1,   100] loss: 3.431\n",
      "[1,   200] loss: 3.088\n",
      "[1,   300] loss: 2.717\n",
      "[1,   400] loss: 2.364\n",
      "[1,   500] loss: 2.259\n",
      "[1,   600] loss: 2.071\n",
      "[1,   700] loss: 1.978\n",
      "[2,   100] loss: 1.954\n",
      "[2,   200] loss: 1.948\n",
      "[2,   300] loss: 1.847\n",
      "[2,   400] loss: 1.798\n",
      "[2,   500] loss: 1.842\n",
      "[2,   600] loss: 1.680\n",
      "[2,   700] loss: 1.668\n",
      "Finished Training\n"
     ]
    }
   ],
   "source": [
    "net = bigNet()\n",
    "\n",
    "criterion = nn.CrossEntropyLoss() # for multi-class classification\n",
    "optimizer = optim.SGD(net.parameters(), lr = 0.001, momentum = 0.9) # decrease learning rate\n",
    "\n",
    "Train(net, 2, train_dl, criterion, optimizer)\n"
   ]
  },
  {
   "cell_type": "code",
   "execution_count": 98,
   "metadata": {},
   "outputs": [
    {
     "name": "stdout",
     "output_type": "stream",
     "text": [
      "Accuracy of the network on the test images: 57 %\n"
     ]
    }
   ],
   "source": [
    "Eval(net, test_dl)"
   ]
  },
  {
   "cell_type": "code",
   "execution_count": 356,
   "metadata": {},
   "outputs": [],
   "source": [
    "class convNet(nn.Module):\n",
    "\n",
    "    def __init__(self):\n",
    "        super().__init__()\n",
    "        self.conv1 = nn.Conv2d(1, 1, 20)\n",
    "        self.pool = nn.MaxPool2d(2, 2)\n",
    "        self.conv2 = nn.Conv2d(1, 4, 10)\n",
    "        # self.fc1 = nn.Linear(int(80 * 80 / 4), 800)\n",
    "        self.fc1 = nn.Linear(int(4 * 15 * 15), 800)\n",
    "        self.fc2 = nn.Linear(800, 200)\n",
    "        self.fc3 = nn.Linear(200, 36)\n",
    "\n",
    "    def forward(self, x):\n",
    "        x = x.view(x.shape[0], 1, 100,100)\n",
    "        x = self.pool(F.relu(self.conv1(x)))\n",
    "        x = self.pool(F.relu(self.conv2(x)))\n",
    "        x = torch.flatten(x, 1) # flatten all dimensions except batch\n",
    "        x = F.relu(self.fc1(x))\n",
    "        x = F.relu(self.fc2(x))\n",
    "        x = self.fc3(x)\n",
    "        return x"
   ]
  },
  {
   "cell_type": "code",
   "execution_count": 537,
   "metadata": {},
   "outputs": [
    {
     "name": "stdout",
     "output_type": "stream",
     "text": [
      "[1,   100] loss: 3.563\n",
      "[1,   200] loss: 3.150\n",
      "[1,   300] loss: 2.599\n",
      "[1,   400] loss: 2.187\n",
      "[1,   500] loss: 1.827\n",
      "[1,   600] loss: 1.681\n",
      "[1,   700] loss: 1.568\n",
      "[1,   800] loss: 1.431\n",
      "[1,   900] loss: 1.252\n",
      "[1,  1000] loss: 1.344\n",
      "[2,   100] loss: 1.266\n",
      "[2,   200] loss: 1.100\n",
      "[2,   300] loss: 1.199\n",
      "[2,   400] loss: 1.173\n",
      "[2,   500] loss: 1.116\n",
      "[2,   600] loss: 1.047\n",
      "[2,   700] loss: 1.024\n",
      "[2,   800] loss: 0.972\n",
      "[2,   900] loss: 0.920\n",
      "[2,  1000] loss: 1.030\n",
      "[3,   100] loss: 1.005\n",
      "[3,   200] loss: 0.851\n",
      "[3,   300] loss: 0.987\n",
      "[3,   400] loss: 0.952\n",
      "[3,   500] loss: 0.904\n",
      "[3,   600] loss: 0.946\n",
      "[3,   700] loss: 0.913\n",
      "[3,   800] loss: 0.894\n",
      "[3,   900] loss: 0.799\n",
      "[3,  1000] loss: 0.885\n",
      "[4,   100] loss: 0.914\n",
      "[4,   200] loss: 0.743\n",
      "[4,   300] loss: 0.907\n",
      "[4,   400] loss: 0.832\n",
      "[4,   500] loss: 0.811\n",
      "[4,   600] loss: 0.894\n",
      "[4,   700] loss: 0.785\n",
      "[4,   800] loss: 0.782\n",
      "[4,   900] loss: 0.709\n",
      "[4,  1000] loss: 0.819\n",
      "[5,   100] loss: 0.851\n",
      "[5,   200] loss: 0.674\n",
      "[5,   300] loss: 0.799\n",
      "[5,   400] loss: 0.781\n",
      "[5,   500] loss: 0.844\n",
      "[5,   600] loss: 0.823\n",
      "[5,   700] loss: 0.719\n",
      "[5,   800] loss: 0.658\n",
      "[5,   900] loss: 0.791\n",
      "[5,  1000] loss: 0.809\n",
      "Finished Training\n"
     ]
    }
   ],
   "source": [
    "net = convNet()\n",
    "\n",
    "criterion = nn.CrossEntropyLoss() # for multi-class classification\n",
    "optimizer = optim.SGD(net.parameters(), lr = 0.001, momentum = 0.9, weight_decay=0.05) # decrease learning rate\n",
    "\n",
    "Train(net, 5, train_dl, criterion, optimizer)"
   ]
  },
  {
   "cell_type": "code",
   "execution_count": 538,
   "metadata": {},
   "outputs": [
    {
     "name": "stdout",
     "output_type": "stream",
     "text": [
      "Accuracy of the network on the test images: 72 %\n"
     ]
    }
   ],
   "source": [
    "Eval(net, test_dl)\n"
   ]
  },
  {
   "cell_type": "code",
   "execution_count": 534,
   "metadata": {},
   "outputs": [
    {
     "name": "stdout",
     "output_type": "stream",
     "text": [
      "Accuracy for class: A     is 96.8 %\n",
      "Accuracy for class: B     is 36.0 %\n",
      "Accuracy for class: C     is 87.8 %\n",
      "Accuracy for class: D     is 78.4 %\n",
      "Accuracy for class: E     is 89.0 %\n",
      "Accuracy for class: F     is 44.4 %\n",
      "Accuracy for class: G     is 90.3 %\n",
      "Accuracy for class: H     is 77.1 %\n",
      "Accuracy for class: I     is 83.0 %\n",
      "Accuracy for class: J     is 53.3 %\n",
      "Accuracy for class: K     is 87.0 %\n",
      "Accuracy for class: L     is 86.8 %\n",
      "Accuracy for class: M     is 83.9 %\n",
      "Accuracy for class: N     is 90.1 %\n",
      "Accuracy for class: O     is 85.5 %\n",
      "Accuracy for class: P     is 88.5 %\n",
      "Accuracy for class: Q     is 11.1 %\n",
      "Accuracy for class: R     is 81.4 %\n",
      "Accuracy for class: S     is 89.8 %\n",
      "Accuracy for class: T     is 84.6 %\n",
      "Accuracy for class: U     is 52.0 %\n",
      "Accuracy for class: V     is 93.8 %\n",
      "Accuracy for class: W     is 70.0 %\n",
      "Accuracy for class: X     is 69.2 %\n",
      "Accuracy for class: Y     is 58.3 %\n",
      "Accuracy for class: Z     is 80.0 %\n"
     ]
    }
   ],
   "source": [
    "# check against\n",
    "correct_pred = {v: 0 for k,v in class_mapping.items() if k in range(11, 37)}\n",
    "total_pred = {v: 0 for k,v in class_mapping.items() if k in range(11, 37)}\n",
    "\n",
    "\n",
    "with torch.no_grad():\n",
    "    for data in test_dl:\n",
    "        images, labels = data\n",
    "        outputs = net(images.float())\n",
    "        _, predictions = torch.max(outputs, 1)\n",
    "        # collect correct pred for each class\n",
    "        for label, prediction in zip(labels, predictions):\n",
    "\n",
    "            if label == prediction:\n",
    "                correct_pred[le.inverse_transform([label])[0]] += 1\n",
    "            total_pred[le.inverse_transform([label])[0]] += 1\n",
    "\n",
    "for classname, correct_count in correct_pred.items():\n",
    "    accuracy = 100 * float(correct_count) / total_pred[classname]\n",
    "    print(f'Accuracy for class: {classname:5s} is {accuracy:.1f} %')"
   ]
  },
  {
   "cell_type": "code",
   "execution_count": 465,
   "metadata": {},
   "outputs": [],
   "source": [
    "# try tensorboard\n",
    "\n",
    "from torch.utils.tensorboard import SummaryWriter\n",
    "import torchvision\n",
    "\n",
    "writer = SummaryWriter('runs/letter_recog_experiment1')"
   ]
  },
  {
   "cell_type": "code",
   "execution_count": 466,
   "metadata": {},
   "outputs": [
    {
     "data": {
      "text/plain": [
       "tensor([[[0, 0, 0,  ..., 0, 0, 0],\n",
       "         [0, 0, 0,  ..., 0, 0, 0],\n",
       "         [0, 0, 0,  ..., 0, 0, 0],\n",
       "         ...,\n",
       "         [0, 0, 0,  ..., 0, 0, 0],\n",
       "         [0, 0, 0,  ..., 0, 0, 0],\n",
       "         [0, 0, 0,  ..., 0, 0, 0]],\n",
       "\n",
       "        [[0, 0, 0,  ..., 0, 0, 0],\n",
       "         [0, 0, 0,  ..., 0, 0, 0],\n",
       "         [0, 0, 0,  ..., 0, 0, 0],\n",
       "         ...,\n",
       "         [1, 1, 0,  ..., 0, 0, 0],\n",
       "         [1, 1, 1,  ..., 0, 0, 0],\n",
       "         [1, 1, 1,  ..., 0, 0, 0]],\n",
       "\n",
       "        [[0, 0, 0,  ..., 0, 0, 0],\n",
       "         [0, 0, 0,  ..., 0, 0, 0],\n",
       "         [0, 0, 0,  ..., 0, 0, 0],\n",
       "         ...,\n",
       "         [1, 1, 1,  ..., 1, 1, 1],\n",
       "         [1, 1, 1,  ..., 1, 1, 1],\n",
       "         [1, 1, 1,  ..., 1, 1, 1]],\n",
       "\n",
       "        [[0, 0, 0,  ..., 0, 0, 0],\n",
       "         [0, 0, 0,  ..., 0, 0, 0],\n",
       "         [0, 0, 0,  ..., 0, 0, 0],\n",
       "         ...,\n",
       "         [0, 0, 0,  ..., 0, 0, 0],\n",
       "         [0, 0, 0,  ..., 0, 0, 0],\n",
       "         [0, 0, 0,  ..., 0, 0, 0]]], dtype=torch.uint8)"
      ]
     },
     "execution_count": 466,
     "metadata": {},
     "output_type": "execute_result"
    }
   ],
   "source": [
    "images.view(4, 100, 100)"
   ]
  },
  {
   "cell_type": "code",
   "execution_count": 472,
   "metadata": {},
   "outputs": [],
   "source": [
    "dataiter = iter(train_dl)\n",
    "images, labels = next(dataiter)\n",
    "\n",
    "img_grid = torchvision.utils.make_grid(images)#.mean(dim = 0, dtype = float)\n",
    "\n",
    "def showImg(img):\n",
    "    img = img.mean(dim = 0, dtype = float)\n",
    "    npimg = img.numpy()\n",
    "    plt.imshow(np.transpose(npimg.reshape(400, 100), (1,0)), cmap = 'Greys')\n",
    "\n",
    "# plt.imshow(images.view( 400, 100), cmap = 'Greys')\n",
    "# img_grid.shape\n",
    "writer.add_image('Letter outputs', img_grid)"
   ]
  },
  {
   "cell_type": "code",
   "execution_count": 475,
   "metadata": {},
   "outputs": [],
   "source": [
    "writer.add_graph(net, images.float())\n",
    "writer.close()"
   ]
  },
  {
   "cell_type": "code",
   "execution_count": 524,
   "metadata": {},
   "outputs": [
    {
     "name": "stdout",
     "output_type": "stream",
     "text": [
      "torch.Size([10, 10000])\n",
      "warning: Embedding dir exists, did you set global_step for add_embedding()?\n"
     ]
    }
   ],
   "source": [
    "# helper function\n",
    "def select_n_random(data, labels, n=100):\n",
    "    '''\n",
    "    Selects n random datapoints and their corresponding labels from a dataset\n",
    "    '''\n",
    "    assert len(data) == len(labels)\n",
    "\n",
    "    perm = torch.randperm(len(data))\n",
    "    return data[perm][:n], labels[perm][:n]\n",
    "\n",
    "N = 10\n",
    "\n",
    "# select random images and their target indices\n",
    "images, labels = select_n_random(train_ds.tensors[0], train_ds.tensors[1], n = N)\n",
    "\n",
    "# # get the class labels for each image\n",
    "class_labels = [le.inverse_transform([lab])[0][0] for lab in labels]\n",
    "\n",
    "# # log embeddings\n",
    "features = images.view(-1, 100 * 100)\n",
    "print(features.shape)\n",
    "writer.add_embedding(features,\n",
    "                    metadata=class_labels,\n",
    "                    label_img=images.unsqueeze(1).view(N, 1, 100, 100))\n",
    "writer.close()"
   ]
  },
  {
   "cell_type": "code",
   "execution_count": 520,
   "metadata": {},
   "outputs": [
    {
     "data": {
      "text/plain": [
       "torch.Size([100, 1, 100, 100])"
      ]
     },
     "execution_count": 520,
     "metadata": {},
     "output_type": "execute_result"
    }
   ],
   "source": [
    "images.unsqueeze(1).view(100, 1, 100, 100).shape"
   ]
  },
  {
   "cell_type": "code",
   "execution_count": 511,
   "metadata": {},
   "outputs": [
    {
     "name": "stdout",
     "output_type": "stream",
     "text": [
      "Downloading http://fashion-mnist.s3-website.eu-central-1.amazonaws.com/train-images-idx3-ubyte.gz\n",
      "Downloading http://fashion-mnist.s3-website.eu-central-1.amazonaws.com/train-images-idx3-ubyte.gz to ./data\\FashionMNIST\\raw\\train-images-idx3-ubyte.gz\n"
     ]
    },
    {
     "name": "stderr",
     "output_type": "stream",
     "text": [
      "100%|██████████| 26421880/26421880 [00:32<00:00, 819174.90it/s]\n"
     ]
    },
    {
     "name": "stdout",
     "output_type": "stream",
     "text": [
      "Extracting ./data\\FashionMNIST\\raw\\train-images-idx3-ubyte.gz to ./data\\FashionMNIST\\raw\n",
      "\n",
      "Downloading http://fashion-mnist.s3-website.eu-central-1.amazonaws.com/train-labels-idx1-ubyte.gz\n",
      "Downloading http://fashion-mnist.s3-website.eu-central-1.amazonaws.com/train-labels-idx1-ubyte.gz to ./data\\FashionMNIST\\raw\\train-labels-idx1-ubyte.gz\n"
     ]
    },
    {
     "name": "stderr",
     "output_type": "stream",
     "text": [
      "100%|██████████| 29515/29515 [00:00<00:00, 93343.24it/s]\n"
     ]
    },
    {
     "name": "stdout",
     "output_type": "stream",
     "text": [
      "Extracting ./data\\FashionMNIST\\raw\\train-labels-idx1-ubyte.gz to ./data\\FashionMNIST\\raw\n",
      "\n",
      "Downloading http://fashion-mnist.s3-website.eu-central-1.amazonaws.com/t10k-images-idx3-ubyte.gz\n",
      "Downloading http://fashion-mnist.s3-website.eu-central-1.amazonaws.com/t10k-images-idx3-ubyte.gz to ./data\\FashionMNIST\\raw\\t10k-images-idx3-ubyte.gz\n"
     ]
    },
    {
     "name": "stderr",
     "output_type": "stream",
     "text": [
      "100%|██████████| 4422102/4422102 [00:05<00:00, 786791.63it/s] \n"
     ]
    },
    {
     "name": "stdout",
     "output_type": "stream",
     "text": [
      "Extracting ./data\\FashionMNIST\\raw\\t10k-images-idx3-ubyte.gz to ./data\\FashionMNIST\\raw\n",
      "\n",
      "Downloading http://fashion-mnist.s3-website.eu-central-1.amazonaws.com/t10k-labels-idx1-ubyte.gz\n",
      "Downloading http://fashion-mnist.s3-website.eu-central-1.amazonaws.com/t10k-labels-idx1-ubyte.gz to ./data\\FashionMNIST\\raw\\t10k-labels-idx1-ubyte.gz\n"
     ]
    },
    {
     "name": "stderr",
     "output_type": "stream",
     "text": [
      "100%|██████████| 5148/5148 [00:00<?, ?it/s]"
     ]
    },
    {
     "name": "stdout",
     "output_type": "stream",
     "text": [
      "Extracting ./data\\FashionMNIST\\raw\\t10k-labels-idx1-ubyte.gz to ./data\\FashionMNIST\\raw\n",
      "\n"
     ]
    },
    {
     "name": "stderr",
     "output_type": "stream",
     "text": [
      "\n"
     ]
    }
   ],
   "source": [
    "import torchvision.transforms as transforms\n",
    "transform = transforms.Compose(\n",
    "    [transforms.ToTensor(),\n",
    "    transforms.Normalize((0.5,), (0.5,))])\n",
    "\n",
    "# datasets\n",
    "trainset = torchvision.datasets.FashionMNIST('./data',\n",
    "    download=True,\n",
    "    train=True,\n",
    "    transform=transform)"
   ]
  },
  {
   "cell_type": "code",
   "execution_count": 515,
   "metadata": {},
   "outputs": [
    {
     "name": "stdout",
     "output_type": "stream",
     "text": [
      "torch.Size([100, 784])\n",
      "warning: Embedding dir exists, did you set global_step for add_embedding()?\n"
     ]
    }
   ],
   "source": [
    "\n",
    "classes = ('T-shirt/top', 'Trouser', 'Pullover', 'Dress', 'Coat',\n",
    "        'Sandal', 'Shirt', 'Sneaker', 'Bag', 'Ankle Boot')\n",
    "# select random images and their target indices\n",
    "images, labels = select_n_random(trainset.data, trainset.targets)\n",
    "\n",
    "# # get the class labels for each image\n",
    "class_labels = [classes[lab] for lab in labels]\n",
    "\n",
    "# # log embeddings\n",
    "features = images.view(-1, 28 * 28)\n",
    "print(features.shape)\n",
    "writer.add_embedding(features,\n",
    "                    metadata=class_labels,\n",
    "                    label_img=images.unsqueeze(1))\n",
    "writer.close()"
   ]
  },
  {
   "cell_type": "code",
   "execution_count": 517,
   "metadata": {},
   "outputs": [
    {
     "data": {
      "text/plain": [
       "torch.Size([100, 1, 28, 28])"
      ]
     },
     "execution_count": 517,
     "metadata": {},
     "output_type": "execute_result"
    }
   ],
   "source": [
    "images.unsqueeze(1).shape"
   ]
  }
 ],
 "metadata": {
  "kernelspec": {
   "display_name": "Python 3.9.7",
   "language": "python",
   "name": "python3"
  },
  "language_info": {
   "codemirror_mode": {
    "name": "ipython",
    "version": 3
   },
   "file_extension": ".py",
   "mimetype": "text/x-python",
   "name": "python",
   "nbconvert_exporter": "python",
   "pygments_lexer": "ipython3",
   "version": "3.9.7"
  },
  "orig_nbformat": 4,
  "vscode": {
   "interpreter": {
    "hash": "35643e8013a8986bd707b2979c5c936bcf5bc6379996007802b723641253d1ab"
   }
  }
 },
 "nbformat": 4,
 "nbformat_minor": 2
}
